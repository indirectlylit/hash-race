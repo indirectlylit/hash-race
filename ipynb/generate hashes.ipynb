{
 "cells": [
  {
   "cell_type": "code",
   "execution_count": 17,
   "metadata": {
    "collapsed": true
   },
   "outputs": [],
   "source": [
    "import humanhash\n",
    "import proquint\n",
    "import uuid\n",
    "import json"
   ]
  },
  {
   "cell_type": "code",
   "execution_count": 18,
   "metadata": {},
   "outputs": [],
   "source": [
    "swahili_wordlist = ('elfu', 'watoto', 'aya', 'mvuke', 'chati', 'kuangalia', 'kuu', 'mbele', 'kama', 'kuanza', 'nyingine', 'mbalimbali', 'kutarajia', 'imekuwa', 'kula', 'kukusanya', 'msalaba', 'moja', 'safi', 'hawakupata', 'kiini', 'watu', 'bure', 'kati', 'kupata', 'kulinganisha', 'kusini', 'kufuatilia', 'gani', 'vigumu', 'kuamua', 'wale', 'asubuhi', 'kuelezea', 'mvulana', 'chochote', 'kutumia', 'kisha', 'kupita', 'nomino', 'usiku', 'kila', 'kuwa', 'papo', 'kuruhusu', 'yeye', 'chakula', 'kuletwa', 'saba', 'unaweza', 'usambazaji', 'mrefu', 'mbali', 'kutenda', 'kituo', 'nyuma', 'haki', 'bonde', 'kina', 'harufu', 'wote', 'moto', 'kusimama', 'mwenyewe', 'ofisi', 'vijana', 'zinahitaji', 'kuona', 'sakafu', 'kubeba', 'gorofa', 'fit', 'wetu', 'sahihi', 'dhidi', 'kinywa', 'kukaa', 'yao', 'historia', 'baada', 'somo', 'safari', 'tisa', 'ziara', 'jinsi', 'kuanguka', 'orodha', 'samaki', 'mkali', 'daima', 'lazima', 'treni', 'amini', 'upande', 'hukumu', 'milioni', 'ardhi', 'kata', 'mboni', 'bluu', 'dakika', 'naye', 'kuwashukuru', 'uzuri', 'mwaka', 'kupambana', 'vyombo', 'lakini', 'gari', 'kuuza', 'nyama', 'sasa', 'sisi', 'giza', 'kitanda', 'kuchunguza', 'ukubwa', 'kujiunga', 'chombo', 'alizungumza', 'mafanikio', 'maisha', 'full', 'bahari', 'msitu', 'mtoto', 'iwezekanavyo', 'kuingizwa', 'chombo', 'mji', 'kutumika', 'kipindi', 'mpya', 'moyo', 'hivi', 'mwamba', 'chumba', 'rafiki', 'mwana', 'mrengo', 'tie', 'ila', 'majira', 'inaweza', 'dutu', 'kuandika', 'wakati', 'kitengo', 'kuvaa', 'kwa', 'tendo', 'sayansi', 'mkondo', 'kilio', 'tayari', 'ngoma', 'jiwe', 'bega', 'fedha', 'yao', 'kitu', 'orodha', 'kuondoka', 'ameketi', 'bora', 'sanduku', 'wazi', 'furaha', 'wengine', 'majaribio', 'mwendo', 'kelele', 'kitu', 'kuchukua', 'ngozi', 'tatizo', 'kupunguza', 'sura', 'jangwa', 'dhahabu', 'makali', 'chini', 'baba', 'safari', 'chini', 'kutumia', 'ambayo', 'kichwa', 'kama', 'kuenea', 'inaweza', 'ndege', 'zima', 'yake', 'kanda', 'kutoa', 'machapisho', 'mabadiliko', 'moto', 'kampuni', 'mpaka', 'kuteka', 'hivyo', 'rangi', 'alichukua', 'mtini', 'zoezi', 'ishara', 'kugusa', 'kuchagua', 'mgawanyiko', 'sehemu', 'mazao', 'msingi', 'mraba', 'moja', 'katikati', 'mlango', 'kusema', 'kuruka', 'kupanda', 'haraka', 'wakati', 'askari', 'takwimu', 'wiki', 'imeandikwa', 'kufundisha', 'sababu', 'alifanya', 'kuweka', 'meno', 'mwezi', 'nyumbani', 'mwili', 'mwanga', 'spell', 'kutosha', 'kazi', 'hata', 'siku', 'darasa', 'alisimama', 'moja', 'hadithi', 'kujadili', 'kufufuka', 'kukua', 'dunia', 'pwani', 'serikali', 'kidogo', 'baba', 'lami', 'sehemu', 'nyembamba')\n",
    "swahili_hasher = humanhash.HumanHasher(wordlist=swahili_wordlist)"
   ]
  },
  {
   "cell_type": "code",
   "execution_count": 19,
   "metadata": {},
   "outputs": [],
   "source": [
    "def genHashes():\n",
    "\n",
    "    h = uuid.uuid4().hex[:8]\n",
    "    i = int(h, 16)\n",
    "    \n",
    "    return {\n",
    "        'hex': h,\n",
    "        'pro': proquint.from_int(i),\n",
    "        'eng': humanhash.humanize(h),\n",
    "        'swa': swahili_hasher.humanize(h),\n",
    "    }"
   ]
  },
  {
   "cell_type": "code",
   "execution_count": 21,
   "metadata": {
    "collapsed": true
   },
   "outputs": [],
   "source": [
    "with open('../src/hashes.json', 'w') as f:\n",
    "    json.dump([genHashes() for _ in xrange(2000)], f, indent=2)"
   ]
  },
  {
   "cell_type": "code",
   "execution_count": null,
   "metadata": {
    "collapsed": true
   },
   "outputs": [],
   "source": []
  }
 ],
 "metadata": {
  "kernelspec": {
   "display_name": "Python 2",
   "language": "python",
   "name": "python2"
  },
  "language_info": {
   "codemirror_mode": {
    "name": "ipython",
    "version": 2
   },
   "file_extension": ".py",
   "mimetype": "text/x-python",
   "name": "python",
   "nbconvert_exporter": "python",
   "pygments_lexer": "ipython2",
   "version": "2.7.11"
  }
 },
 "nbformat": 4,
 "nbformat_minor": 2
}
